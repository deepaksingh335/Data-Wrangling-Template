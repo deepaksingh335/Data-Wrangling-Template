{
 "cells": [
  {
   "cell_type": "markdown",
   "metadata": {},
   "source": [
    "# Data Wrangling Template"
   ]
  },
  {
   "cell_type": "markdown",
   "metadata": {},
   "source": [
    "## Gather"
   ]
  },
  {
   "cell_type": "code",
   "execution_count": 2,
   "metadata": {
    "collapsed": true
   },
   "outputs": [],
   "source": [
    "import zipfile\n",
    "import pandas as pd"
   ]
  },
  {
   "cell_type": "code",
   "execution_count": 3,
   "metadata": {
    "collapsed": false
   },
   "outputs": [],
   "source": [
    "with zipfile.ZipFile('armenian-online-job-postings.zip','r') as myzip:\n",
    "    myzip.extractall()"
   ]
  },
  {
   "cell_type": "code",
   "execution_count": 4,
   "metadata": {
    "collapsed": false
   },
   "outputs": [],
   "source": [
    "# Read CSV (comma-separated) file into DataFrame\n",
    "df = pd.read_csv('online-job-postings.csv')"
   ]
  },
  {
   "cell_type": "markdown",
   "metadata": {},
   "source": [
    "## Assess"
   ]
  },
  {
   "cell_type": "code",
   "execution_count": null,
   "metadata": {
    "collapsed": true
   },
   "outputs": [],
   "source": [
    "df"
   ]
  },
  {
   "cell_type": "code",
   "execution_count": 5,
   "metadata": {
    "collapsed": false
   },
   "outputs": [
    {
     "name": "stdout",
     "output_type": "stream",
     "text": [
      "<class 'pandas.core.frame.DataFrame'>\n",
      "RangeIndex: 19001 entries, 0 to 19000\n",
      "Data columns (total 24 columns):\n",
      "jobpost             19001 non-null object\n",
      "date                19001 non-null object\n",
      "Title               18973 non-null object\n",
      "Company             18994 non-null object\n",
      "AnnouncementCode    1208 non-null object\n",
      "Term                7676 non-null object\n",
      "Eligibility         4930 non-null object\n",
      "Audience            640 non-null object\n",
      "StartDate           9675 non-null object\n",
      "Duration            10798 non-null object\n",
      "Location            18969 non-null object\n",
      "JobDescription      15110 non-null object\n",
      "JobRequirment       16479 non-null object\n",
      "RequiredQual        18517 non-null object\n",
      "Salary              9623 non-null object\n",
      "ApplicationP        18941 non-null object\n",
      "OpeningDate         18295 non-null object\n",
      "Deadline            18936 non-null object\n",
      "Notes               2211 non-null object\n",
      "AboutC              12470 non-null object\n",
      "Attach              1559 non-null object\n",
      "Year                19001 non-null int64\n",
      "Month               19001 non-null int64\n",
      "IT                  19001 non-null bool\n",
      "dtypes: bool(1), int64(2), object(21)\n",
      "memory usage: 3.4+ MB\n"
     ]
    }
   ],
   "source": [
    "# Display a basic summary of the DataFrame using .info\n",
    "df.info()"
   ]
  },
  {
   "cell_type": "code",
   "execution_count": 12,
   "metadata": {
    "collapsed": false
   },
   "outputs": [
    {
     "data": {
      "text/plain": [
       "2012    2149\n",
       "2015    2009\n",
       "2013    2009\n",
       "2014    1983\n",
       "2008    1785\n",
       "2011    1697\n",
       "2007    1538\n",
       "2010    1511\n",
       "2009    1191\n",
       "2005    1138\n",
       "2006    1116\n",
       "2004     875\n",
       "Name: Year, dtype: int64"
      ]
     },
     "execution_count": 12,
     "metadata": {},
     "output_type": "execute_result"
    }
   ],
   "source": [
    "# Display the first five rows of the DataFrame using .head\n",
    "df.head()\n"
   ]
  },
  {
   "cell_type": "code",
   "execution_count": null,
   "metadata": {
    "collapsed": true
   },
   "outputs": [],
   "source": [
    "# Display the entry counts for the Year column using .value_counts\n",
    "df['Year'].value_counts()"
   ]
  },
  {
   "cell_type": "markdown",
   "metadata": {},
   "source": [
    "1) Missing Values (NaN)\n",
    "\n",
    "2) StartDate Inconsistencies (ASAP)\n",
    "\n",
    "3) Fix non descriptive column names (ApplicationP, AboutC, RequiredQual etc.)"
   ]
  },
  {
   "cell_type": "markdown",
   "metadata": {},
   "source": [
    "## Clean"
   ]
  },
  {
   "cell_type": "markdown",
   "metadata": {},
   "source": [
    "#### Define\n",
    "- Select All records in the StartDate column that have \"As soon as possible\" , \"Immediately\" , etc and replace the text in those celss with \"ASAP\"\n",
    "\n",
    "- Select all non descriptive and misspelled column headers (ApplicationP, RequiredQual, AboutC, JobRequirment) and replace them with full words (ApplicationProcedure, RequiredQualification, AboutCompany, JobRequirement)"
   ]
  },
  {
   "cell_type": "markdown",
   "metadata": {},
   "source": [
    "#### Code"
   ]
  },
  {
   "cell_type": "code",
   "execution_count": 13,
   "metadata": {
    "collapsed": true
   },
   "outputs": [],
   "source": [
    "df_clean = df.copy()"
   ]
  },
  {
   "cell_type": "markdown",
   "metadata": {},
   "source": [
    "•Select all non descriptive and misspelled column headers (ApplicationP, RequiredQual, AboutC, JobRequirment) and replace them with full words (ApplicationProcedure, RequiredQualification, AboutCompany, JobRequirements)"
   ]
  },
  {
   "cell_type": "code",
   "execution_count": 15,
   "metadata": {
    "collapsed": true
   },
   "outputs": [],
   "source": [
    "df_clean = df_clean.rename(columns={'ApplicationP': 'ApplicationProcedure',\n",
    "                                    'RequiredQual': 'RequiredQualification',\n",
    "                                    'AboutC':'AboutCompany',\n",
    "                                    'JobRequirment':'JobRequirements'})"
   ]
  },
  {
   "cell_type": "markdown",
   "metadata": {},
   "source": [
    "•Select All records in the StartDate column that have \"As soon as possible\" , \"Immediately\" , etc and replace the text in those celss with \"ASAP\""
   ]
  },
  {
   "cell_type": "code",
   "execution_count": 20,
   "metadata": {
    "collapsed": true
   },
   "outputs": [],
   "source": [
    "asap_list = ['Immediately', 'As soon as possible', 'Upon hiring',\n",
    "             'Immediate', 'Immediate employment', 'As soon as possible.', 'Immediate job opportunity',\n",
    "             '\"Immediate employment, after passing the interview.\"',\n",
    "             'ASAP preferred', 'Employment contract signature date',\n",
    "             'Immediate employment opportunity', 'Immidiately', 'ASA',\n",
    "             'Asap', '\"The position is open immediately but has a flexible start date depending on the candidates earliest availability.\"',\n",
    "             'Immediately upon agreement', '20 November 2014 or ASAP',\n",
    "             'immediately', 'Immediatelly',\n",
    "             '\"Immediately upon selection or no later than November 15, 2009.\"',\n",
    "             'Immediate job opening', 'Immediate hiring', 'Upon selection',\n",
    "             'As soon as practical', 'Immadiate', 'As soon as posible',\n",
    "             'Immediately with 2 months probation period',\n",
    "             '12 November 2012 or ASAP', 'Immediate employment after passing the interview',\n",
    "             'Immediately/ upon agreement', '01 September 2014 or ASAP',\n",
    "             'Immediately or as per agreement', 'as soon as possible',\n",
    "             'As soon as Possible', 'in the nearest future', 'immediate',\n",
    "             '01 April 2014 or ASAP', 'Immidiatly', 'Urgent',\n",
    "             'Immediate or earliest possible', 'Immediate hire',\n",
    "             'Earliest  possible', 'ASAP with 3 months probation period.',\n",
    "             'Immediate employment opportunity.', 'Immediate employment.',\n",
    "             'Immidietly', 'Imminent', 'September 2014 or ASAP', 'Imediately']\n",
    "\n",
    "for phrase in asap_list:\n",
    "    df_clean.StartDate.replace( phrase,\"ASAP\", inplace=True)\n",
    "    "
   ]
  },
  {
   "cell_type": "markdown",
   "metadata": {},
   "source": [
    "#### Test"
   ]
  },
  {
   "cell_type": "code",
   "execution_count": 21,
   "metadata": {
    "collapsed": false
   },
   "outputs": [
    {
     "name": "stdout",
     "output_type": "stream",
     "text": [
      "<class 'pandas.core.frame.DataFrame'>\n",
      "RangeIndex: 19001 entries, 0 to 19000\n",
      "Data columns (total 24 columns):\n",
      "jobpost                  19001 non-null object\n",
      "date                     19001 non-null object\n",
      "Title                    18973 non-null object\n",
      "Company                  18994 non-null object\n",
      "AnnouncementCode         1208 non-null object\n",
      "Term                     7676 non-null object\n",
      "Eligibility              4930 non-null object\n",
      "Audience                 640 non-null object\n",
      "StartDate                9675 non-null object\n",
      "Duration                 10798 non-null object\n",
      "Location                 18969 non-null object\n",
      "JobDescription           15110 non-null object\n",
      "JobRequirement           16479 non-null object\n",
      "RequiredQualification    18517 non-null object\n",
      "Salary                   9623 non-null object\n",
      "ApplicationProcedure     18941 non-null object\n",
      "OpeningDate              18295 non-null object\n",
      "Deadline                 18936 non-null object\n",
      "Notes                    2211 non-null object\n",
      "AboutCompany             12470 non-null object\n",
      "Attach                   1559 non-null object\n",
      "Year                     19001 non-null int64\n",
      "Month                    19001 non-null int64\n",
      "IT                       19001 non-null bool\n",
      "dtypes: bool(1), int64(2), object(21)\n",
      "memory usage: 3.4+ MB\n"
     ]
    }
   ],
   "source": [
    "df_clean.info()"
   ]
  },
  {
   "cell_type": "code",
   "execution_count": 23,
   "metadata": {
    "collapsed": false
   },
   "outputs": [
    {
     "data": {
      "text/plain": [
       "ASAP                                                                                                                        6856\n",
       "01 September 2012                                                                                                             31\n",
       "March 2006                                                                                                                    27\n",
       "November 2006                                                                                                                 22\n",
       "January 2010                                                                                                                  19\n",
       "February 2014                                                                                                                 17\n",
       "01 February 2005                                                                                                              17\n",
       "TBD                                                                                                                           16\n",
       "February 2011                                                                                                                 16\n",
       "September 2010                                                                                                                16\n",
       "September 2008                                                                                                                15\n",
       "March 2011                                                                                                                    15\n",
       "February 2007                                                                                                                 14\n",
       "01 July 2014                                                                                                                  14\n",
       "01 February 2015                                                                                                              14\n",
       "01 September 2010                                                                                                             13\n",
       "January 2016                                                                                                                  13\n",
       "01 March 2006                                                                                                                 13\n",
       "01 September 2008                                                                                                             13\n",
       "01 October 2008                                                                                                               12\n",
       "01 April 2014                                                                                                                 12\n",
       "Fall 2010                                                                                                                     12\n",
       "September 2013                                                                                                                12\n",
       "01 October 2012                                                                                                               12\n",
       "01 March 2012                                                                                                                 12\n",
       "June 2008                                                                                                                     12\n",
       "01 April 2012                                                                                                                 11\n",
       "February 2008                                                                                                                 11\n",
       "01 February 2012                                                                                                              11\n",
       "01 April 2009                                                                                                                 11\n",
       "                                                                                                                            ... \n",
       "12 August 2013                                                                                                                 1\n",
       "Approximately 15 February 2012                                                                                                 1\n",
       "01 May  2012                                                                                                                   1\n",
       "Spring 2012                                                                                                                    1\n",
       "November, 2006                                                                                                                 1\n",
       "The course is planned in the first half of October;\\r\\nthe exact dates will be announced in July 2008.                         1\n",
       "17 September 2005                                                                                                              1\n",
       "03 October 2011                                                                                                                1\n",
       "January-February 2008                                                                                                          1\n",
       "First contract will be concluded for up to 3 months,\\r\\nand then the successful candidate will be hired for longer term.       1\n",
       "17 June 2013                                                                                                                   1\n",
       "Fall 2005                                                                                                                      1\n",
       "07 February 2005                                                                                                               1\n",
       "28 November 2007                                                                                                               1\n",
       "10 January 2014                                                                                                                1\n",
       "10 February 2005                                                                                                               1\n",
       "August 2014                                                                                                                    1\n",
       "04 April 2011                                                                                                                  1\n",
       "23 October 2006, 13:00 p.m.                                                                                                    1\n",
       "14 October 2005, 13:00 p.m.                                                                                                    1\n",
       "Latest  March 2009                                                                                                             1\n",
       "August 15th                                                                                                                    1\n",
       "15 October 2007                                                                                                                1\n",
       "02 July 2007                                                                                                                   1\n",
       "01 July 2007                                                                                                                   1\n",
       "08 October 2012                                                                                                                1\n",
       "18 December 2013                                                                                                               1\n",
       "Mid-August, 2004                                                                                                               1\n",
       "25 November 2004                                                                                                               1\n",
       "16 October 2009, 19:00                                                                                                         1\n",
       "Name: StartDate, dtype: int64"
      ]
     },
     "execution_count": 23,
     "metadata": {},
     "output_type": "execute_result"
    }
   ],
   "source": [
    "df_clean.StartDate.value_counts()"
   ]
  },
  {
   "cell_type": "code",
   "execution_count": 24,
   "metadata": {
    "collapsed": true
   },
   "outputs": [],
   "source": [
    "for phrase in asap_list:\n",
    "    assert phrase not in df_clean.StartDate.values"
   ]
  }
 ],
 "metadata": {
  "anaconda-cloud": {},
  "kernelspec": {
   "display_name": "Python [default]",
   "language": "python",
   "name": "python3"
  },
  "language_info": {
   "codemirror_mode": {
    "name": "ipython",
    "version": 3
   },
   "file_extension": ".py",
   "mimetype": "text/x-python",
   "name": "python",
   "nbconvert_exporter": "python",
   "pygments_lexer": "ipython3",
   "version": "3.5.2"
  }
 },
 "nbformat": 4,
 "nbformat_minor": 2
}
